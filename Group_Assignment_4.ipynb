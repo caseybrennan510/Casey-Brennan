{
  "nbformat": 4,
  "nbformat_minor": 0,
  "metadata": {
    "colab": {
      "name": "Group Assignment 4.ipynb",
      "provenance": [],
      "collapsed_sections": [],
      "include_colab_link": true
    },
    "kernelspec": {
      "name": "python3",
      "display_name": "Python 3"
    }
  },
  "cells": [
    {
      "cell_type": "markdown",
      "metadata": {
        "id": "view-in-github",
        "colab_type": "text"
      },
      "source": [
        "<a href=\"https://colab.research.google.com/github/caseybrennan510/Casey-Brennan/blob/master/Group_Assignment_4.ipynb\" target=\"_parent\"><img src=\"https://colab.research.google.com/assets/colab-badge.svg\" alt=\"Open In Colab\"/></a>"
      ]
    },
    {
      "cell_type": "code",
      "metadata": {
        "id": "LbyAK48FEQ6H",
        "colab_type": "code",
        "colab": {}
      },
      "source": [
        "import sqlite3 # Once imported in a single notebook, it is available to us throughout the rest of the notebook. "
      ],
      "execution_count": 0,
      "outputs": []
    },
    {
      "cell_type": "code",
      "metadata": {
        "id": "eOuEBi7WGbXc",
        "colab_type": "code",
        "colab": {}
      },
      "source": [
        "# connect to database, if not there, create it.\n",
        "connectionToDatabase = sqlite3.connect('PeanutData') "
      ],
      "execution_count": 0,
      "outputs": []
    },
    {
      "cell_type": "code",
      "metadata": {
        "id": "ywZeBKydFH62",
        "colab_type": "code",
        "colab": {}
      },
      "source": [
        "cursor = connectionToDatabase.cursor()"
      ],
      "execution_count": 0,
      "outputs": []
    },
    {
      "cell_type": "code",
      "metadata": {
        "id": "y64Wl4nJFNZZ",
        "colab_type": "code",
        "colab": {}
      },
      "source": [
        "cursor.execute('''create table IF NOT EXISTS Stands (StandID real PRIMARY KEY, Color text, Size text, Type text, TypeOfNut text)''')\n",
        "connectionToDatabase.commit()"
      ],
      "execution_count": 0,
      "outputs": []
    },
    {
      "cell_type": "code",
      "metadata": {
        "id": "_o1FmcIPIJsB",
        "colab_type": "code",
        "colab": {}
      },
      "source": [
        "cursor.execute(\"INSERT INTO Stands (StandID, Color, Size, Type, TypeOfNut) VALUES (0002, 'Blue', 'Medium', 'Highway', 'Coconut')\");\n",
        "connectionToDatabase.commit()"
      ],
      "execution_count": 0,
      "outputs": []
    },
    {
      "cell_type": "code",
      "metadata": {
        "id": "WFdhx1KcL55c",
        "colab_type": "code",
        "colab": {
          "base_uri": "https://localhost:8080/",
          "height": 34
        },
        "outputId": "ebcec404-fd1e-484c-f3d0-547db54cee67"
      },
      "source": [
        "cursor.execute('''select * from Stands;''')\n",
        "for row in cursor.fetchall():\n",
        "  print (row)"
      ],
      "execution_count": 120,
      "outputs": [
        {
          "output_type": "stream",
          "text": [
            "(2.0, 'Blue', 'Medium', 'Highway', 'Coconut')\n"
          ],
          "name": "stdout"
        }
      ]
    },
    {
      "cell_type": "code",
      "metadata": {
        "colab_type": "code",
        "id": "9-U2sagqLhpI",
        "colab": {}
      },
      "source": [
        "cursor.execute('''create table IF NOT EXISTS Locations (LocationAddress text PRIMARY KEY, Traffic text, SpeedLimit real, Visibility text)''')\n",
        "connectionToDatabase.commit()"
      ],
      "execution_count": 0,
      "outputs": []
    },
    {
      "cell_type": "code",
      "metadata": {
        "id": "iMaLGLGoLvKP",
        "colab_type": "code",
        "colab": {}
      },
      "source": [
        "cursor.execute(\"INSERT INTO Locations (LocationAddress, Traffic, SpeedLimit, Visibility) VALUES ('Mile Marker 40', 'Heavy', 65, '2 miles')\");\n",
        "connectionToDatabase.commit()"
      ],
      "execution_count": 0,
      "outputs": []
    },
    {
      "cell_type": "code",
      "metadata": {
        "id": "R0pHwqcoHcAi",
        "colab_type": "code",
        "colab": {
          "base_uri": "https://localhost:8080/",
          "height": 34
        },
        "outputId": "e79e58af-d9c5-48a9-a8ed-7dd53d1eb45f"
      },
      "source": [
        "cursor.execute('''select * from Locations;''')\n",
        "for row in cursor.fetchall():\n",
        "  print (row)"
      ],
      "execution_count": 125,
      "outputs": [
        {
          "output_type": "stream",
          "text": [
            "('Mile Marker 40', 'Heavy', 65.0, '2 miles')\n"
          ],
          "name": "stdout"
        }
      ]
    },
    {
      "cell_type": "code",
      "metadata": {
        "id": "wKITOidJJfVp",
        "colab_type": "code",
        "colab": {}
      },
      "source": [
        "# connect to database, if not there, create it.\n",
        "connectionToDatabase = sqlite3.connect('PeanutData') "
      ],
      "execution_count": 0,
      "outputs": []
    },
    {
      "cell_type": "code",
      "metadata": {
        "colab_type": "code",
        "id": "kqLpku1WHUcx",
        "colab": {}
      },
      "source": [
        "cursor = connectionToDatabase.cursor()"
      ],
      "execution_count": 0,
      "outputs": []
    },
    {
      "cell_type": "code",
      "metadata": {
        "colab_type": "code",
        "id": "oK11TQ1i7MuB",
        "colab": {}
      },
      "source": [
        "cursor.execute('''create table IF NOT EXISTS Employees (EmployeeID text PRIMARY KEY, Name text, Phone real, Job text)''')\n",
        "connectionToDatabase.commit()"
      ],
      "execution_count": 0,
      "outputs": []
    },
    {
      "cell_type": "code",
      "metadata": {
        "id": "C9NMSCuy8DTk",
        "colab_type": "code",
        "colab": {}
      },
      "source": [
        "cursor.execute(\"INSERT INTO Employees (EmployeeID, Name, Phone, Job) VALUES ('6689078', 'Charles', 4105824433, 'Fry Cook')\");\n",
        "connectionToDatabase.commit()"
      ],
      "execution_count": 0,
      "outputs": []
    },
    {
      "cell_type": "code",
      "metadata": {
        "id": "84pgxoHjGe1e",
        "colab_type": "code",
        "colab": {
          "base_uri": "https://localhost:8080/",
          "height": 51
        },
        "outputId": "2329750d-825b-4e92-eeb3-0c9a37181262"
      },
      "source": [
        "cursor.execute('''select * from Employees;''')\n",
        "for row in cursor.fetchall():\n",
        "  print (row)"
      ],
      "execution_count": 126,
      "outputs": [
        {
          "output_type": "stream",
          "text": [
            "('6689078', 'Charles', 4105824433.0, 'Fry Cook')\n",
            "('6689978', 'Charles', 4105824433.0, 'Fry Cook')\n"
          ],
          "name": "stdout"
        }
      ]
    },
    {
      "cell_type": "code",
      "metadata": {
        "id": "uyjqztNdKkcs",
        "colab_type": "code",
        "colab": {}
      },
      "source": [
        "cursor.execute('''create table IF NOT EXISTS Peanuts (PeanutsID text PRIMARY KEY, type text, price real, brand text)''')\n",
        "connectionToDatabase.commit()"
      ],
      "execution_count": 0,
      "outputs": []
    },
    {
      "cell_type": "code",
      "metadata": {
        "id": "P82zXt5BLJIo",
        "colab_type": "code",
        "colab": {}
      },
      "source": [
        "cursor.execute(\"INSERT INTO Peanuts (PeanutsID, type, price, brand) VALUES ('6670291', 'roasted', 7.99, 'Joes')\");\n",
        "connectionToDatabase.commit()"
      ],
      "execution_count": 0,
      "outputs": []
    },
    {
      "cell_type": "code",
      "metadata": {
        "id": "37TVlpH7Ma4-",
        "colab_type": "code",
        "outputId": "13b5701a-17f2-4575-ca39-ff092c67d7cd",
        "colab": {
          "base_uri": "https://localhost:8080/",
          "height": 34
        }
      },
      "source": [
        "cursor.execute('''select * from Peanuts;''')\n",
        "for row in cursor.fetchall():\n",
        "  print (row)"
      ],
      "execution_count": 0,
      "outputs": [
        {
          "output_type": "stream",
          "text": [
            "('6670291', 'roasted', 7.99, 'Joes')\n"
          ],
          "name": "stdout"
        }
      ]
    },
    {
      "cell_type": "code",
      "metadata": {
        "id": "SZqKAO4CQKT0",
        "colab_type": "code",
        "colab": {}
      },
      "source": [
        "cursor.execute('''create table IF NOT EXISTS Cooker (HotplateID text PRIMARY KEY, amount text, cost real, brand text)''')\n",
        "connectionToDatabase.commit()"
      ],
      "execution_count": 0,
      "outputs": []
    },
    {
      "cell_type": "code",
      "metadata": {
        "id": "hlwQzgAwQVKo",
        "colab_type": "code",
        "colab": {}
      },
      "source": [
        "cursor.execute(\"INSERT INTO Cooker (HotplateID, amount, cost, brand) VALUES ('6689079', '3', 150, 'Jeromes')\");\n",
        "connectionToDatabase.commit()"
      ],
      "execution_count": 0,
      "outputs": []
    },
    {
      "cell_type": "code",
      "metadata": {
        "id": "aDB29K_KQyPo",
        "colab_type": "code",
        "colab": {
          "base_uri": "https://localhost:8080/",
          "height": 34
        },
        "outputId": "90e767dd-7177-4b44-cdd1-f93d4764fc83"
      },
      "source": [
        "cursor.execute('''select * from Cooker;''')\n",
        "for row in cursor.fetchall():\n",
        "  print (row)"
      ],
      "execution_count": 116,
      "outputs": [
        {
          "output_type": "stream",
          "text": [
            "('6689079', '3', 150.0, 'Jeromes')\n"
          ],
          "name": "stdout"
        }
      ]
    },
    {
      "cell_type": "code",
      "metadata": {
        "id": "GAOljCnJYYrh",
        "colab_type": "code",
        "colab": {}
      },
      "source": [
        "cursor.execute('''create table IF NOT EXISTS Employees (EmployeeID text PRIMARY KEY, Name text, Phone real, Job text)''')\n",
        "connectionToDatabase.commit()"
      ],
      "execution_count": 0,
      "outputs": []
    },
    {
      "cell_type": "code",
      "metadata": {
        "id": "aTsuovYRYjxt",
        "colab_type": "code",
        "colab": {}
      },
      "source": [
        "cursor.execute(\"INSERT INTO Employees (EmployeeID, Name, Phone, Job) VALUES ('6689978', 'Charles', 4105824433, 'Fry Cook')\");\n",
        "connectionToDatabase.commit()\n",
        "\n"
      ],
      "execution_count": 0,
      "outputs": []
    },
    {
      "cell_type": "code",
      "metadata": {
        "id": "5C7fHfvkZGUx",
        "colab_type": "code",
        "outputId": "ab2b0e62-2687-4a56-92f1-8854653a9e24",
        "colab": {
          "base_uri": "https://localhost:8080/",
          "height": 51
        }
      },
      "source": [
        "cursor.execute('''select * from Employees;''')\n",
        "for row in cursor.fetchall():\n",
        "\n",
        "  print (row)"
      ],
      "execution_count": 0,
      "outputs": [
        {
          "output_type": "stream",
          "text": [
            "('6689078', 'Charles', 4105824433.0, 'Fry Cook')\n",
            "('6689978', 'Charles', 4105824433.0, 'Fry Cook')\n"
          ],
          "name": "stdout"
        }
      ]
    },
    {
      "cell_type": "code",
      "metadata": {
        "id": "j9_uUPYEZQpg",
        "colab_type": "code",
        "colab": {}
      },
      "source": [
        "cursor.execute('''create table IF NOT EXISTS Customer (CustomerID text PRIMARY KEY, Gender text, Family text, Age real)''')\n",
        "connectionToDatabase.commit()"
      ],
      "execution_count": 0,
      "outputs": []
    },
    {
      "cell_type": "code",
      "metadata": {
        "id": "o3gjY5KzZQlr",
        "colab_type": "code",
        "colab": {}
      },
      "source": [
        "cursor.execute(\"INSERT INTO Customer (CustomerID, Gender, Family, Age) VALUES ('9907912', 'Female', 'No', 33)\");\n",
        "connectionToDatabase.commit()"
      ],
      "execution_count": 0,
      "outputs": []
    },
    {
      "cell_type": "code",
      "metadata": {
        "id": "nezDPTzwZQfE",
        "colab_type": "code",
        "outputId": "738788bf-76c1-44a7-f915-b500b36a364c",
        "colab": {
          "base_uri": "https://localhost:8080/",
          "height": 68
        }
      },
      "source": [
        "cursor.execute('''select * from Customer;''')\n",
        "for row in cursor.fetchall():\n",
        "\n",
        "  print (row)"
      ],
      "execution_count": 0,
      "outputs": [
        {
          "output_type": "stream",
          "text": [
            "('990912', 'Female', 'No', None, 33.0)\n",
            "('9909912', 'Female', 'No', None, 33.0)\n",
            "('9907912', 'Female', 'No', None, 33.0)\n"
          ],
          "name": "stdout"
        }
      ]
    },
    {
      "cell_type": "code",
      "metadata": {
        "id": "XRRXWlW1a9LM",
        "colab_type": "code",
        "colab": {}
      },
      "source": [
        "cursor.execute('''create table IF NOT EXISTS Fryer (EquipmentID text PRIMARY KEY, Cost real, Size text, Expiration text)''')\n",
        "connectionToDatabase.commit()"
      ],
      "execution_count": 0,
      "outputs": []
    },
    {
      "cell_type": "code",
      "metadata": {
        "id": "CPpfnmY-bJzq",
        "colab_type": "code",
        "colab": {}
      },
      "source": [
        "cursor.execute(\"INSERT INTO Fryer (EquipmentID, Cost, Size, Life) VALUES ('1387', 450, 'Large', '10')\");\n",
        "connectionToDatabase.commit()"
      ],
      "execution_count": 0,
      "outputs": []
    },
    {
      "cell_type": "code",
      "metadata": {
        "id": "0I4YJ_fnbQl4",
        "colab_type": "code",
        "colab": {
          "base_uri": "https://localhost:8080/",
          "height": 51
        },
        "outputId": "462d63f1-6dd2-48a5-a5e9-dc1dfcfb17d4"
      },
      "source": [
        "cursor.execute('''select * from Fryer;''')\n",
        "for row in cursor.fetchall():\n",
        "\n",
        "  print (row)"
      ],
      "execution_count": 95,
      "outputs": [
        {
          "output_type": "stream",
          "text": [
            "('1287', 450.0, 'Large', 10.0)\n",
            "('1387', 450.0, 'Large', 10.0)\n"
          ],
          "name": "stdout"
        }
      ]
    },
    {
      "cell_type": "markdown",
      "metadata": {
        "id": "1-4D2bGsTtWU",
        "colab_type": "text"
      },
      "source": [
        "# What is the price of Peanuts?"
      ]
    },
    {
      "cell_type": "code",
      "metadata": {
        "id": "0aK-cyWeeNXP",
        "colab_type": "code",
        "colab": {
          "base_uri": "https://localhost:8080/",
          "height": 34
        },
        "outputId": "bc1473c0-bc38-40a2-e2e8-927d4d0ccc09"
      },
      "source": [
        "cursor.execute('''select price from Peanuts''')\n",
        "for row in cursor.fetchall():\n",
        "  print (row)"
      ],
      "execution_count": 110,
      "outputs": [
        {
          "output_type": "stream",
          "text": [
            "(7.99,)\n"
          ],
          "name": "stdout"
        }
      ]
    },
    {
      "cell_type": "markdown",
      "metadata": {
        "id": "80SgGhzjTwwh",
        "colab_type": "text"
      },
      "source": [
        "# What is the Amount of Fryers?"
      ]
    },
    {
      "cell_type": "code",
      "metadata": {
        "id": "7laPwQ1PanDh",
        "colab_type": "code",
        "colab": {
          "base_uri": "https://localhost:8080/",
          "height": 34
        },
        "outputId": "009bf266-9f70-4352-930b-df7a57a0e047"
      },
      "source": [
        "cursor.execute('''select COUNT(EquipmentID) from Fryer ''')\n",
        "for row in cursor.fetchall():\n",
        "  print (row)"
      ],
      "execution_count": 111,
      "outputs": [
        {
          "output_type": "stream",
          "text": [
            "(2,)\n"
          ],
          "name": "stdout"
        }
      ]
    },
    {
      "cell_type": "markdown",
      "metadata": {
        "id": "oSCgPNJMUTuX",
        "colab_type": "text"
      },
      "source": [
        "# What is the Brand of Peanuts used?"
      ]
    },
    {
      "cell_type": "code",
      "metadata": {
        "id": "L7693eQnann1",
        "colab_type": "code",
        "colab": {
          "base_uri": "https://localhost:8080/",
          "height": 34
        },
        "outputId": "5e82aa23-1303-4089-e3d5-24e5ce3ed2ad"
      },
      "source": [
        "cursor.execute('''select brand from Peanuts''')\n",
        "for row in cursor.fetchall():\n",
        "  print (row)"
      ],
      "execution_count": 112,
      "outputs": [
        {
          "output_type": "stream",
          "text": [
            "('Joes',)\n"
          ],
          "name": "stdout"
        }
      ]
    },
    {
      "cell_type": "markdown",
      "metadata": {
        "id": "B4XhynKmhUw0",
        "colab_type": "text"
      },
      "source": [
        "The questions used were important because they provided answers \n",
        "for key components of our business such as how many hotplates we would\n",
        "be using, the brand of peanuts being used and the price of peanuts. \n",
        "The answers for these questions helped us figure out if we would be\n",
        "profitable or not. They also help figure out what we will need to \n",
        "purchase and our costs of it. The results matched our expectations\n",
        "by giving us data to answer the questions."
      ]
    }
  ]
}